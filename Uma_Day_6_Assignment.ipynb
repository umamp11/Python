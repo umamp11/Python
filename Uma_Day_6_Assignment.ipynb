{
  "nbformat": 4,
  "nbformat_minor": 0,
  "metadata": {
    "colab": {
      "name": "Prema  Day 6 Assignment.ipynb",
      "provenance": []
    },
    "kernelspec": {
      "name": "python3",
      "display_name": "Python 3"
    }
  },
  "cells": [
    {
      "cell_type": "markdown",
      "metadata": {
        "id": "RIOnB3pz57jX",
        "colab_type": "text"
      },
      "source": [
        "**Question 1 Bank Account**"
      ]
    },
    {
      "cell_type": "code",
      "metadata": {
        "id": "ntEd60vt8lt2",
        "colab_type": "code",
        "colab": {}
      },
      "source": [
        "class Bank_Account: \n",
        "    def __init__(self): \n",
        "        self.balance=0\n",
        "        print(\"Hello!!! Welcome to the Deposit & Withdrawal Machine\") \n",
        "  \n",
        "    def deposit(self): \n",
        "        amount=float(input(\"Enter amount to be Deposited: \")) \n",
        "        self.balance += amount \n",
        "        print(\"\\n Amount Deposited:\",amount) \n",
        "  \n",
        "    def withdraw(self): \n",
        "        amount = float(input(\"Enter amount to be Withdrawn: \")) \n",
        "        if self.balance>=amount: \n",
        "            self.balance-=amount \n",
        "            print(\"\\n You Withdrew:\", amount) \n",
        "        else: \n",
        "            print(\"\\n Insufficient balance  \") \n",
        "  \n",
        "    def display(self): \n",
        "        print(\"\\n Net Available Balance=\",self.balance) "
      ],
      "execution_count": 15,
      "outputs": []
    },
    {
      "cell_type": "code",
      "metadata": {
        "id": "fSWITWVV8q2Y",
        "colab_type": "code",
        "colab": {
          "base_uri": "https://localhost:8080/",
          "height": 168
        },
        "outputId": "78147222-3e00-4005-9c01-83be7e5dd6d1"
      },
      "source": [
        "# creating an object of class \n",
        "s = Bank_Account() \n",
        "   \n",
        "# Calling functions with that class object \n",
        "s.deposit() \n",
        "s.withdraw() \n",
        "s.display()"
      ],
      "execution_count": 18,
      "outputs": [
        {
          "output_type": "stream",
          "text": [
            "Hello!!! Welcome to the Deposit & Withdrawal Machine\n",
            "Enter amount to be Deposited: 10000\n",
            "\n",
            " Amount Deposited: 10000.0\n",
            "Enter amount to be Withdrawn: 5000\n",
            "\n",
            " You Withdrew: 5000.0\n",
            "\n",
            " Net Available Balance= 5000.0\n"
          ],
          "name": "stdout"
        }
      ]
    },
    {
      "cell_type": "markdown",
      "metadata": {
        "id": "smUT3liT5zTH",
        "colab_type": "text"
      },
      "source": [
        "**Question 2 Class**"
      ]
    },
    {
      "cell_type": "code",
      "metadata": {
        "id": "P0hF88RWtKWK",
        "colab_type": "code",
        "colab": {}
      },
      "source": [
        "class shape():\n",
        "     def __init__(self, name):\n",
        "          self.name = name\n",
        "     def area(self):\n",
        "         raise notimplementederroe(\"hey define a area function for this class\")"
      ],
      "execution_count": null,
      "outputs": []
    },
    {
      "cell_type": "code",
      "metadata": {
        "id": "YrhKj9tOuk10",
        "colab_type": "code",
        "colab": {}
      },
      "source": [
        "class circle(shape):\n",
        "  def __init__(self,radius):\n",
        " \n",
        "        shape.__init__(self,\"circle\")\n",
        "        self.radius = radius\n",
        "  def area(self):\n",
        "       \n",
        "      print(\"Area of circle -\",3.14*self.radius*self.radius)"
      ],
      "execution_count": null,
      "outputs": []
    },
    {
      "cell_type": "code",
      "metadata": {
        "id": "nbwQX3m-y-tR",
        "colab_type": "code",
        "colab": {}
      },
      "source": [
        " class square(shape):\n",
        "  def __init__(self,sides):\n",
        " \n",
        "        shape.__init__(self,\"square\")\n",
        "        self.sides = sides\n",
        "  def area(self):\n",
        "       \n",
        "      print(\"Area of square_\",self.sides*self.sides)"
      ],
      "execution_count": null,
      "outputs": []
    },
    {
      "cell_type": "code",
      "metadata": {
        "id": "VXVf_QsKzdDn",
        "colab_type": "code",
        "colab": {}
      },
      "source": [
        "abc = square(4)"
      ],
      "execution_count": null,
      "outputs": []
    },
    {
      "cell_type": "code",
      "metadata": {
        "id": "87jh6EoRzkNg",
        "colab_type": "code",
        "colab": {
          "base_uri": "https://localhost:8080/",
          "height": 34
        },
        "outputId": "bfbeb459-cf62-42e1-b90b-99c008f7f5dc"
      },
      "source": [
        "abc.area()"
      ],
      "execution_count": null,
      "outputs": [
        {
          "output_type": "stream",
          "text": [
            "Area of square_ 16\n"
          ],
          "name": "stdout"
        }
      ]
    },
    {
      "cell_type": "code",
      "metadata": {
        "id": "LVpk08cTvypr",
        "colab_type": "code",
        "colab": {}
      },
      "source": [
        "abc = circle(4)"
      ],
      "execution_count": null,
      "outputs": []
    },
    {
      "cell_type": "code",
      "metadata": {
        "id": "lh8mg6Z_v6kI",
        "colab_type": "code",
        "colab": {
          "base_uri": "https://localhost:8080/",
          "height": 34
        },
        "outputId": "bd221eff-2bd9-49cb-cc61-aa02745bdc7d"
      },
      "source": [
        "abc.area()"
      ],
      "execution_count": null,
      "outputs": [
        {
          "output_type": "stream",
          "text": [
            "Area of circle - 50.24\n"
          ],
          "name": "stdout"
        }
      ]
    },
    {
      "cell_type": "code",
      "metadata": {
        "id": "aTBQqbAyx2jZ",
        "colab_type": "code",
        "colab": {}
      },
      "source": [
        " class volume(shape):\n",
        "  def __init__(self,radius,height):\n",
        "        shape.__init__(self,\"volume\")\n",
        "        self.radius = radius     \n",
        "        self.height = height\n",
        "  def area(self):\n",
        "       \n",
        "      print(\"volume -\",3.14*self.radius*self.radius*self.height/3)"
      ],
      "execution_count": null,
      "outputs": []
    },
    {
      "cell_type": "code",
      "metadata": {
        "id": "X75ViVHM3NxX",
        "colab_type": "code",
        "colab": {}
      },
      "source": [
        "abc = volume(4,6)"
      ],
      "execution_count": null,
      "outputs": []
    },
    {
      "cell_type": "code",
      "metadata": {
        "id": "H5O5qPF53UtF",
        "colab_type": "code",
        "colab": {
          "base_uri": "https://localhost:8080/",
          "height": 34
        },
        "outputId": "7effb60b-af7f-4803-a387-ce84756c3488"
      },
      "source": [
        "abc.area()"
      ],
      "execution_count": null,
      "outputs": [
        {
          "output_type": "stream",
          "text": [
            "volume - 100.48\n"
          ],
          "name": "stdout"
        }
      ]
    },
    {
      "cell_type": "code",
      "metadata": {
        "id": "bBo0TeKX4JuT",
        "colab_type": "code",
        "colab": {}
      },
      "source": [
        "class shape():\n",
        "     def __init__(self, name):\n",
        "          self.name = name\n",
        "     def area(self):\n",
        "         raise notimplementederroe(\"hey define a area function for this class\")"
      ],
      "execution_count": 3,
      "outputs": []
    },
    {
      "cell_type": "code",
      "metadata": {
        "id": "QO5MXKKB5hm1",
        "colab_type": "code",
        "colab": {}
      },
      "source": [
        " class base(shape):\n",
        "  def __init__(self,radius):\n",
        "        shape.__init__(self,\"base\")\n",
        "        self.radius = radius     \n",
        "  def area(self):\n",
        "       \n",
        "      print(\"base -\",3.14*self.radius*self.radius)"
      ],
      "execution_count": 4,
      "outputs": []
    },
    {
      "cell_type": "code",
      "metadata": {
        "id": "ConwLHOB4Qpg",
        "colab_type": "code",
        "colab": {
          "base_uri": "https://localhost:8080/",
          "height": 34
        },
        "outputId": "df8b07ea-7c3d-4a4c-acfa-81cf08c03455"
      },
      "source": [
        "abc=base(7)\n",
        "abc.area()"
      ],
      "execution_count": 5,
      "outputs": [
        {
          "output_type": "stream",
          "text": [
            "base - 153.86\n"
          ],
          "name": "stdout"
        }
      ]
    },
    {
      "cell_type": "code",
      "metadata": {
        "id": "VDj8UnLZ5j9M",
        "colab_type": "code",
        "colab": {}
      },
      "source": [
        "import math"
      ],
      "execution_count": 11,
      "outputs": []
    },
    {
      "cell_type": "code",
      "metadata": {
        "id": "X4Gmery_4it7",
        "colab_type": "code",
        "colab": {}
      },
      "source": [
        " class side(shape):\n",
        "  def __init__(self,radius,height):\n",
        "        shape.__init__(self,\"side\")\n",
        "        self.radius = radius     \n",
        "        self.height = height\n",
        "  def area(self):\n",
        "       \n",
        "      print(\"side -\",3.14*self.radius*math.sqrt(self.radius*self.radius+self.height*self.height))"
      ],
      "execution_count": 12,
      "outputs": []
    },
    {
      "cell_type": "code",
      "metadata": {
        "id": "P3H1Z9gb5CLb",
        "colab_type": "code",
        "colab": {
          "base_uri": "https://localhost:8080/",
          "height": 34
        },
        "outputId": "1f8f60ce-7d61-4dc1-bc24-a75e89c681bd"
      },
      "source": [
        "abc=side(7,3)\n",
        "abc.area()"
      ],
      "execution_count": 13,
      "outputs": [
        {
          "output_type": "stream",
          "text": [
            "side - 167.3946928668887\n"
          ],
          "name": "stdout"
        }
      ]
    }
  ]
}