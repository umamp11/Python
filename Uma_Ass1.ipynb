{
  "nbformat": 4,
  "nbformat_minor": 0,
  "metadata": {
    "colab": {
      "name": "Uma_Ass1.ipynb",
      "provenance": [],
      "collapsed_sections": []
    },
    "kernelspec": {
      "name": "python3",
      "display_name": "Python 3"
    }
  },
  "cells": [
    {
      "cell_type": "markdown",
      "metadata": {
        "id": "e7OcAkc3khk7",
        "colab_type": "text"
      },
      "source": [
        "\n",
        "\n",
        "```\n",
        "`# This is formatted as code`\n",
        "```\n",
        "\n"
      ]
    },
    {
      "cell_type": "markdown",
      "metadata": {
        "id": "MjKsVMQAkhJE",
        "colab_type": "text"
      },
      "source": [
        "**LIST**"
      ]
    },
    {
      "cell_type": "code",
      "metadata": {
        "id": "UBx22d1ZesCI",
        "colab_type": "code",
        "colab": {
          "base_uri": "https://localhost:8080/",
          "height": 34
        },
        "outputId": "bc5c758b-97a7-4d04-901e-1a13030c29b2"
      },
      "source": [
        "a = [\"Uma\", 32 , 45.56 , [1 , 2 , 3,4,5]]\n",
        "a\n"
      ],
      "execution_count": 45,
      "outputs": [
        {
          "output_type": "execute_result",
          "data": {
            "text/plain": [
              "['Uma', 32, 45.56, [1, 2, 3, 4, 5]]"
            ]
          },
          "metadata": {
            "tags": []
          },
          "execution_count": 45
        }
      ]
    },
    {
      "cell_type": "code",
      "metadata": {
        "id": "tiT0UBIrfDHp",
        "colab_type": "code",
        "colab": {
          "base_uri": "https://localhost:8080/",
          "height": 34
        },
        "outputId": "bf90a9df-b471-4a01-bfab-055d0da8cdc7"
      },
      "source": [
        "a.append(\"Hello Every One\")\n",
        "a\n"
      ],
      "execution_count": 46,
      "outputs": [
        {
          "output_type": "execute_result",
          "data": {
            "text/plain": [
              "['Uma', 32, 45.56, [1, 2, 3, 4, 5], 'Hello Every One']"
            ]
          },
          "metadata": {
            "tags": []
          },
          "execution_count": 46
        }
      ]
    },
    {
      "cell_type": "code",
      "metadata": {
        "id": "AdL8KNZVfOdy",
        "colab_type": "code",
        "colab": {
          "base_uri": "https://localhost:8080/",
          "height": 34
        },
        "outputId": "46592001-79df-4a6d-a20b-a453a0557b00"
      },
      "source": [
        "a.count(32)\n"
      ],
      "execution_count": 4,
      "outputs": [
        {
          "output_type": "execute_result",
          "data": {
            "text/plain": [
              "1"
            ]
          },
          "metadata": {
            "tags": []
          },
          "execution_count": 4
        }
      ]
    },
    {
      "cell_type": "code",
      "metadata": {
        "id": "U88FkPSPfWPY",
        "colab_type": "code",
        "colab": {
          "base_uri": "https://localhost:8080/",
          "height": 34
        },
        "outputId": "8df10754-e57e-435a-859d-6a36303e7410"
      },
      "source": [
        "a.index(45.56)\n"
      ],
      "execution_count": 5,
      "outputs": [
        {
          "output_type": "execute_result",
          "data": {
            "text/plain": [
              "2"
            ]
          },
          "metadata": {
            "tags": []
          },
          "execution_count": 5
        }
      ]
    },
    {
      "cell_type": "code",
      "metadata": {
        "id": "kGzzMzGFfmLj",
        "colab_type": "code",
        "colab": {
          "base_uri": "https://localhost:8080/",
          "height": 34
        },
        "outputId": "a8ee5203-25a9-4d9e-ad77-1b3ce5a27348"
      },
      "source": [
        "a.remove(\"Hello Every One\")\n",
        "a\n"
      ],
      "execution_count": 47,
      "outputs": [
        {
          "output_type": "execute_result",
          "data": {
            "text/plain": [
              "['Uma', 32, 45.56, [1, 2, 3, 4, 5]]"
            ]
          },
          "metadata": {
            "tags": []
          },
          "execution_count": 47
        }
      ]
    },
    {
      "cell_type": "code",
      "metadata": {
        "id": "65CwYlCtfvCb",
        "colab_type": "code",
        "colab": {
          "base_uri": "https://localhost:8080/",
          "height": 34
        },
        "outputId": "7f6ce80c-1555-4250-f695-b01ba1bf6525"
      },
      "source": [
        "a.pop(3)"
      ],
      "execution_count": 7,
      "outputs": [
        {
          "output_type": "execute_result",
          "data": {
            "text/plain": [
              "[1, 2, 3, 4, 5]"
            ]
          },
          "metadata": {
            "tags": []
          },
          "execution_count": 7
        }
      ]
    },
    {
      "cell_type": "code",
      "metadata": {
        "id": "6HPmJQWYf1-2",
        "colab_type": "code",
        "colab": {
          "base_uri": "https://localhost:8080/",
          "height": 34
        },
        "outputId": "c44d777f-e4a8-47fa-a15d-a9ef3072d212"
      },
      "source": [
        "a"
      ],
      "execution_count": 48,
      "outputs": [
        {
          "output_type": "execute_result",
          "data": {
            "text/plain": [
              "['Uma', 32, 45.56, [1, 2, 3, 4, 5]]"
            ]
          },
          "metadata": {
            "tags": []
          },
          "execution_count": 48
        }
      ]
    },
    {
      "cell_type": "markdown",
      "metadata": {
        "id": "mPTrrzwhkrcV",
        "colab_type": "text"
      },
      "source": [
        "**Dictionary**"
      ]
    },
    {
      "cell_type": "code",
      "metadata": {
        "id": "GAqlzcBLgA2n",
        "colab_type": "code",
        "colab": {
          "base_uri": "https://localhost:8080/",
          "height": 34
        },
        "outputId": "57186329-a4e7-4934-8fad-24d9e8405aaa"
      },
      "source": [
        "dit = {\"name\":\"Uma\", \"age\":\"18\", \"college\":\"Uma Anantha Natyalaya\"}\n",
        "dit"
      ],
      "execution_count": 49,
      "outputs": [
        {
          "output_type": "execute_result",
          "data": {
            "text/plain": [
              "{'age': '18', 'college': 'Uma Anantha Natyalaya', 'name': 'Uma'}"
            ]
          },
          "metadata": {
            "tags": []
          },
          "execution_count": 49
        }
      ]
    },
    {
      "cell_type": "code",
      "metadata": {
        "id": "-zY7TDeggWUq",
        "colab_type": "code",
        "colab": {
          "base_uri": "https://localhost:8080/",
          "height": 35
        },
        "outputId": "d6ca0b34-70de-46dc-c44f-c8a486661060"
      },
      "source": [
        "dit.get(\"name\")"
      ],
      "execution_count": 50,
      "outputs": [
        {
          "output_type": "execute_result",
          "data": {
            "application/vnd.google.colaboratory.intrinsic+json": {
              "type": "string"
            },
            "text/plain": [
              "'Uma'"
            ]
          },
          "metadata": {
            "tags": []
          },
          "execution_count": 50
        }
      ]
    },
    {
      "cell_type": "code",
      "metadata": {
        "id": "LOC9GPOLggH-",
        "colab_type": "code",
        "colab": {
          "base_uri": "https://localhost:8080/",
          "height": 34
        },
        "outputId": "58b378b3-0815-4239-e214-e2a21676f06a"
      },
      "source": [
        "dit.values()"
      ],
      "execution_count": 51,
      "outputs": [
        {
          "output_type": "execute_result",
          "data": {
            "text/plain": [
              "dict_values(['Uma', '18', 'Uma Anantha Natyalaya'])"
            ]
          },
          "metadata": {
            "tags": []
          },
          "execution_count": 51
        }
      ]
    },
    {
      "cell_type": "code",
      "metadata": {
        "id": "sDb23EpAgij6",
        "colab_type": "code",
        "colab": {
          "base_uri": "https://localhost:8080/",
          "height": 34
        },
        "outputId": "fa23dfca-a72c-4390-c0b9-549a9d72599d"
      },
      "source": [
        "dit.keys()\n"
      ],
      "execution_count": 52,
      "outputs": [
        {
          "output_type": "execute_result",
          "data": {
            "text/plain": [
              "dict_keys(['name', 'age', 'college'])"
            ]
          },
          "metadata": {
            "tags": []
          },
          "execution_count": 52
        }
      ]
    },
    {
      "cell_type": "code",
      "metadata": {
        "id": "XTSFncGcgq3D",
        "colab_type": "code",
        "colab": {
          "base_uri": "https://localhost:8080/",
          "height": 34
        },
        "outputId": "a9c01a5f-ab2c-4ee3-b19c-a167dbe53bd5"
      },
      "source": [
        "y = (\"val\")\n",
        "dit.fromkeys(dit,y)\n"
      ],
      "execution_count": 53,
      "outputs": [
        {
          "output_type": "execute_result",
          "data": {
            "text/plain": [
              "{'age': 'val', 'college': 'val', 'name': 'val'}"
            ]
          },
          "metadata": {
            "tags": []
          },
          "execution_count": 53
        }
      ]
    },
    {
      "cell_type": "code",
      "metadata": {
        "id": "41uJ0K7Jg3r6",
        "colab_type": "code",
        "colab": {
          "base_uri": "https://localhost:8080/",
          "height": 84
        },
        "outputId": "d24eb5cf-825b-4f49-f9c9-69dff53f8058"
      },
      "source": [
        "dit.update({\"school\" : \"KHSS\"})\n",
        "dit"
      ],
      "execution_count": 54,
      "outputs": [
        {
          "output_type": "execute_result",
          "data": {
            "text/plain": [
              "{'age': '18',\n",
              " 'college': 'Uma Anantha Natyalaya',\n",
              " 'name': 'Uma',\n",
              " 'school': 'KHSS'}"
            ]
          },
          "metadata": {
            "tags": []
          },
          "execution_count": 54
        }
      ]
    },
    {
      "cell_type": "code",
      "metadata": {
        "id": "nL0aKg0nhHL_",
        "colab_type": "code",
        "colab": {
          "base_uri": "https://localhost:8080/",
          "height": 34
        },
        "outputId": "da4db651-75f8-453a-8981-e3c50f001dd0"
      },
      "source": [
        "#SET\n",
        "s = {\"Uma\" , \"lives\" , \"in\" , 1, 45, 2, 1 ,2 }\n",
        "s\n"
      ],
      "execution_count": 55,
      "outputs": [
        {
          "output_type": "execute_result",
          "data": {
            "text/plain": [
              "{1, 2, 45, 'Uma', 'in', 'lives'}"
            ]
          },
          "metadata": {
            "tags": []
          },
          "execution_count": 55
        }
      ]
    },
    {
      "cell_type": "code",
      "metadata": {
        "id": "xXS6NC8uhWP7",
        "colab_type": "code",
        "colab": {
          "base_uri": "https://localhost:8080/",
          "height": 34
        },
        "outputId": "ce6de550-7a2f-4f35-d44d-2656d5c051cf"
      },
      "source": [
        "s1 = { 1, \"lives\"}\n",
        "s1.issubset(s)\n"
      ],
      "execution_count": 56,
      "outputs": [
        {
          "output_type": "execute_result",
          "data": {
            "text/plain": [
              "True"
            ]
          },
          "metadata": {
            "tags": []
          },
          "execution_count": 56
        }
      ]
    },
    {
      "cell_type": "code",
      "metadata": {
        "id": "AWElFmUUheEv",
        "colab_type": "code",
        "colab": {
          "base_uri": "https://localhost:8080/",
          "height": 34
        },
        "outputId": "7289edbc-316a-490e-eb22-c1eba7436e8b"
      },
      "source": [
        "s1.intersection(s)\n"
      ],
      "execution_count": 57,
      "outputs": [
        {
          "output_type": "execute_result",
          "data": {
            "text/plain": [
              "{1, 'lives'}"
            ]
          },
          "metadata": {
            "tags": []
          },
          "execution_count": 57
        }
      ]
    },
    {
      "cell_type": "code",
      "metadata": {
        "id": "i6_v_I74hj5X",
        "colab_type": "code",
        "colab": {
          "base_uri": "https://localhost:8080/",
          "height": 34
        },
        "outputId": "d67ef095-c036-498b-df22-493b0c65cd13"
      },
      "source": [
        "s1.difference(s)\n"
      ],
      "execution_count": 58,
      "outputs": [
        {
          "output_type": "execute_result",
          "data": {
            "text/plain": [
              "set()"
            ]
          },
          "metadata": {
            "tags": []
          },
          "execution_count": 58
        }
      ]
    },
    {
      "cell_type": "code",
      "metadata": {
        "id": "zZYdqjq9hqDO",
        "colab_type": "code",
        "colab": {
          "base_uri": "https://localhost:8080/",
          "height": 34
        },
        "outputId": "0e03cf77-dcfb-4107-f872-7ddee63ae9bb"
      },
      "source": [
        "s1.add(\"India\")\n",
        "s1"
      ],
      "execution_count": 59,
      "outputs": [
        {
          "output_type": "execute_result",
          "data": {
            "text/plain": [
              "{1, 'India', 'lives'}"
            ]
          },
          "metadata": {
            "tags": []
          },
          "execution_count": 59
        }
      ]
    },
    {
      "cell_type": "code",
      "metadata": {
        "id": "OzsIFihAhtZr",
        "colab_type": "code",
        "colab": {
          "base_uri": "https://localhost:8080/",
          "height": 34
        },
        "outputId": "a742da77-e064-4855-b4e4-7592a29420ad"
      },
      "source": [
        "s1.update([\"Tanjore\" , \"Big_Temple\" , \"beauty\"])\n",
        "s1"
      ],
      "execution_count": 60,
      "outputs": [
        {
          "output_type": "execute_result",
          "data": {
            "text/plain": [
              "{1, 'Big_Temple', 'India', 'Tanjore', 'beauty', 'lives'}"
            ]
          },
          "metadata": {
            "tags": []
          },
          "execution_count": 60
        }
      ]
    },
    {
      "cell_type": "code",
      "metadata": {
        "id": "6zty3EGnh8n3",
        "colab_type": "code",
        "colab": {
          "base_uri": "https://localhost:8080/",
          "height": 34
        },
        "outputId": "62020cfd-dd32-45cc-d74f-74c69589df58"
      },
      "source": [
        "s\n"
      ],
      "execution_count": 61,
      "outputs": [
        {
          "output_type": "execute_result",
          "data": {
            "text/plain": [
              "{1, 2, 45, 'Uma', 'in', 'lives'}"
            ]
          },
          "metadata": {
            "tags": []
          },
          "execution_count": 61
        }
      ]
    },
    {
      "cell_type": "code",
      "metadata": {
        "id": "kSjBW2vsiDRP",
        "colab_type": "code",
        "colab": {
          "base_uri": "https://localhost:8080/",
          "height": 118
        },
        "outputId": "8ecd21eb-f5a4-44ed-9a8f-d18866d37b47"
      },
      "source": [
        "for x in s:\n",
        " print(x)\n"
      ],
      "execution_count": 62,
      "outputs": [
        {
          "output_type": "stream",
          "text": [
            "1\n",
            "2\n",
            "lives\n",
            "45\n",
            "in\n",
            "Uma\n"
          ],
          "name": "stdout"
        }
      ]
    },
    {
      "cell_type": "code",
      "metadata": {
        "id": "_xKXdj0kiJwV",
        "colab_type": "code",
        "colab": {}
      },
      "source": [
        "#TUPLE\n"
      ],
      "execution_count": null,
      "outputs": []
    },
    {
      "cell_type": "code",
      "metadata": {
        "id": "CJLay_jciK6r",
        "colab_type": "code",
        "colab": {
          "base_uri": "https://localhost:8080/",
          "height": 34
        },
        "outputId": "b56251df-d8ae-4361-88b6-e7942f3dcad6"
      },
      "source": [
        "tup = (\"Uma\" , 12, 1 , 2 , 3, 1, \"idk\" )\n",
        "tup\n"
      ],
      "execution_count": 63,
      "outputs": [
        {
          "output_type": "execute_result",
          "data": {
            "text/plain": [
              "('Uma', 12, 1, 2, 3, 1, 'idk')"
            ]
          },
          "metadata": {
            "tags": []
          },
          "execution_count": 63
        }
      ]
    },
    {
      "cell_type": "code",
      "metadata": {
        "id": "mDf4p0wKij31",
        "colab_type": "code",
        "colab": {
          "base_uri": "https://localhost:8080/",
          "height": 34
        },
        "outputId": "5dd9be63-8ebc-4f7f-c23f-e50597f3b6a6"
      },
      "source": [
        "tup.count(3)\n"
      ],
      "execution_count": 64,
      "outputs": [
        {
          "output_type": "execute_result",
          "data": {
            "text/plain": [
              "1"
            ]
          },
          "metadata": {
            "tags": []
          },
          "execution_count": 64
        }
      ]
    },
    {
      "cell_type": "code",
      "metadata": {
        "id": "2a8tkpmKikJe",
        "colab_type": "code",
        "colab": {
          "base_uri": "https://localhost:8080/",
          "height": 34
        },
        "outputId": "96b49cf9-f988-40f8-d197-64e8d009d13f"
      },
      "source": [
        "tup.index(3)"
      ],
      "execution_count": 65,
      "outputs": [
        {
          "output_type": "execute_result",
          "data": {
            "text/plain": [
              "4"
            ]
          },
          "metadata": {
            "tags": []
          },
          "execution_count": 65
        }
      ]
    },
    {
      "cell_type": "markdown",
      "metadata": {
        "id": "vxwdlRONjJFu",
        "colab_type": "text"
      },
      "source": [
        "**STRINGS**"
      ]
    },
    {
      "cell_type": "markdown",
      "metadata": {
        "id": "h9_Y43zYjIqY",
        "colab_type": "text"
      },
      "source": [
        ""
      ]
    },
    {
      "cell_type": "code",
      "metadata": {
        "id": "uiNA6rNtiZ-7",
        "colab_type": "code",
        "colab": {
          "base_uri": "https://localhost:8080/",
          "height": 35
        },
        "outputId": "574ee808-a50d-47ab-d165-1178bb1a6762"
      },
      "source": [
        "S = \"hello\"\n",
        "S.capitalize()\n"
      ],
      "execution_count": 34,
      "outputs": [
        {
          "output_type": "execute_result",
          "data": {
            "application/vnd.google.colaboratory.intrinsic+json": {
              "type": "string"
            },
            "text/plain": [
              "'Hello'"
            ]
          },
          "metadata": {
            "tags": []
          },
          "execution_count": 34
        }
      ]
    },
    {
      "cell_type": "code",
      "metadata": {
        "id": "oUS5ms8jjc6Q",
        "colab_type": "code",
        "colab": {
          "base_uri": "https://localhost:8080/",
          "height": 34
        },
        "outputId": "ab730cb0-6459-406c-a70a-12dac9317a44"
      },
      "source": [
        "S.encode()\n"
      ],
      "execution_count": 35,
      "outputs": [
        {
          "output_type": "execute_result",
          "data": {
            "text/plain": [
              "b'hello'"
            ]
          },
          "metadata": {
            "tags": []
          },
          "execution_count": 35
        }
      ]
    },
    {
      "cell_type": "code",
      "metadata": {
        "id": "9ks-ciXAjiXh",
        "colab_type": "code",
        "colab": {
          "base_uri": "https://localhost:8080/",
          "height": 34
        },
        "outputId": "4278286c-e662-4aaf-de20-53853a4c32ff"
      },
      "source": [
        "S.find(\"o\")\n"
      ],
      "execution_count": 36,
      "outputs": [
        {
          "output_type": "execute_result",
          "data": {
            "text/plain": [
              "4"
            ]
          },
          "metadata": {
            "tags": []
          },
          "execution_count": 36
        }
      ]
    },
    {
      "cell_type": "code",
      "metadata": {
        "id": "V7X3ii6ljqFX",
        "colab_type": "code",
        "colab": {
          "base_uri": "https://localhost:8080/",
          "height": 34
        },
        "outputId": "972d8725-7f6e-4645-b424-eb928702bab8"
      },
      "source": [
        "S.isalpha"
      ],
      "execution_count": 42,
      "outputs": [
        {
          "output_type": "execute_result",
          "data": {
            "text/plain": [
              "<function str.isalpha>"
            ]
          },
          "metadata": {
            "tags": []
          },
          "execution_count": 42
        }
      ]
    },
    {
      "cell_type": "code",
      "metadata": {
        "id": "k3cOUkBPkP9L",
        "colab_type": "code",
        "colab": {
          "base_uri": "https://localhost:8080/",
          "height": 35
        },
        "outputId": "a2dfa120-9fc7-492b-c96e-926c45e830a4"
      },
      "source": [
        "S.upper()"
      ],
      "execution_count": 43,
      "outputs": [
        {
          "output_type": "execute_result",
          "data": {
            "application/vnd.google.colaboratory.intrinsic+json": {
              "type": "string"
            },
            "text/plain": [
              "'HELLO'"
            ]
          },
          "metadata": {
            "tags": []
          },
          "execution_count": 43
        }
      ]
    },
    {
      "cell_type": "code",
      "metadata": {
        "id": "IzmE3fTFkUv-",
        "colab_type": "code",
        "colab": {
          "base_uri": "https://localhost:8080/",
          "height": 504
        },
        "outputId": "89092654-d300-48ea-cae1-cc40b2e705fe"
      },
      "source": [
        "pip install latex\n"
      ],
      "execution_count": 44,
      "outputs": [
        {
          "output_type": "stream",
          "text": [
            "Collecting latex\n",
            "  Downloading https://files.pythonhosted.org/packages/e3/f3/c2562ee509faadaaf4f9d5b9491de146c6522ed2843dcecfd4f8e1a72f1d/latex-0.7.0.tar.gz\n",
            "Collecting tempdir\n",
            "  Downloading https://files.pythonhosted.org/packages/dd/b2/b931869a9f9ad9fa14deecbcfc28e514b0755f8b904d9fe48864951b1a60/tempdir-0.7.1.tar.gz\n",
            "Collecting data\n",
            "  Downloading https://files.pythonhosted.org/packages/ed/e9/623be82fac4250fc614741f5b1ead83d339794f94b19ac8665b6ea12ee05/data-0.4.tar.gz\n",
            "Requirement already satisfied: future in /usr/local/lib/python3.6/dist-packages (from latex) (0.16.0)\n",
            "Collecting shutilwhich\n",
            "  Downloading https://files.pythonhosted.org/packages/66/be/783f181594bb8bcfde174d6cd1e41956b986d0d8d337d535eb2555b92f8d/shutilwhich-1.1.0.tar.gz\n",
            "Requirement already satisfied: six in /usr/local/lib/python3.6/dist-packages (from data->latex) (1.15.0)\n",
            "Requirement already satisfied: decorator in /usr/local/lib/python3.6/dist-packages (from data->latex) (4.4.2)\n",
            "Collecting funcsigs\n",
            "  Downloading https://files.pythonhosted.org/packages/69/cb/f5be453359271714c01b9bd06126eaf2e368f1fddfff30818754b5ac2328/funcsigs-1.0.2-py2.py3-none-any.whl\n",
            "Building wheels for collected packages: latex, tempdir, data, shutilwhich\n",
            "  Building wheel for latex (setup.py) ... \u001b[?25l\u001b[?25hdone\n",
            "  Created wheel for latex: filename=latex-0.7.0-cp36-none-any.whl size=7606 sha256=09ec08ad35860e2351f23a1aa68d10b9f439447c423980b7d06388ea212cc124\n",
            "  Stored in directory: /root/.cache/pip/wheels/a5/00/74/5aed853dec3fbc45e9c9cf4949f664f1bd8b6f3e6def432019\n",
            "  Building wheel for tempdir (setup.py) ... \u001b[?25l\u001b[?25hdone\n",
            "  Created wheel for tempdir: filename=tempdir-0.7.1-cp36-none-any.whl size=2215 sha256=db98efdec5dd4f64028e5443dc13cbe1e6c214221f8740531c6e4d95fdae263a\n",
            "  Stored in directory: /root/.cache/pip/wheels/7b/f2/40/6806964a69dfe3e46eff51b06a9a036af80b933479536fa295\n",
            "  Building wheel for data (setup.py) ... \u001b[?25l\u001b[?25hdone\n",
            "  Created wheel for data: filename=data-0.4-cp36-none-any.whl size=7247 sha256=4cc6b149e393e8b26bfd9b5cbfb4cb2d3e2791e7265d443473d9f1470da872f2\n",
            "  Stored in directory: /root/.cache/pip/wheels/f6/09/e5/5afbc45fb0de471541092c7cd8b48d3483be68b1890955e6b9\n",
            "  Building wheel for shutilwhich (setup.py) ... \u001b[?25l\u001b[?25hdone\n",
            "  Created wheel for shutilwhich: filename=shutilwhich-1.1.0-cp36-none-any.whl size=2783 sha256=55c1f8e98d52221d35204b05c3f43f004e8713296e62b00b2b9fded4fb67376f\n",
            "  Stored in directory: /root/.cache/pip/wheels/05/ef/eb/27a815601fa45bbb0301dae456f0853700502233b801fe4bb1\n",
            "Successfully built latex tempdir data shutilwhich\n",
            "Installing collected packages: tempdir, funcsigs, data, shutilwhich, latex\n",
            "Successfully installed data-0.4 funcsigs-1.0.2 latex-0.7.0 shutilwhich-1.1.0 tempdir-0.7.1\n"
          ],
          "name": "stdout"
        }
      ]
    },
    {
      "cell_type": "code",
      "metadata": {
        "id": "juC9pINGkU-m",
        "colab_type": "code",
        "colab": {}
      },
      "source": [
        ""
      ],
      "execution_count": null,
      "outputs": []
    }
  ]
}