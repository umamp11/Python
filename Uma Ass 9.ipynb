{
  "nbformat": 4,
  "nbformat_minor": 0,
  "metadata": {
    "colab": {
      "name": "Copy of Prema ass9 sai.ipynb",
      "provenance": [],
      "collapsed_sections": []
    },
    "kernelspec": {
      "name": "python3",
      "display_name": "Python 3"
    }
  },
  "cells": [
    {
      "cell_type": "markdown",
      "metadata": {
        "id": "csweUSlMWMc0",
        "colab_type": "text"
      },
      "source": [
        "**Question 2**"
      ]
    },
    {
      "cell_type": "code",
      "metadata": {
        "id": "rnGmknxsglSA",
        "colab_type": "code",
        "colab": {
          "base_uri": "https://localhost:8080/",
          "height": 54
        },
        "outputId": "544d8536-c812-4866-bc71-cc4f7b5773b3"
      },
      "source": [
        "def gen_primes(N):\n",
        "    \"\"\"Generate primes between 1 and 1000\"\"\"\n",
        "    primes = set()\n",
        "    for n in range(2, N):\n",
        "        if all(n % p > 0 for p in primes):\n",
        "            primes.add(n)\n",
        "            yield n\n",
        "\n",
        "print(*gen_primes(1000))"
      ],
      "execution_count": 2,
      "outputs": [
        {
          "output_type": "stream",
          "text": [
            "2 3 5 7 11 13 17 19 23 29 31 37 41 43 47 53 59 61 67 71 73 79 83 89 97 101 103 107 109 113 127 131 137 139 149 151 157 163 167 173 179 181 191 193 197 199 211 223 227 229 233 239 241 251 257 263 269 271 277 281 283 293 307 311 313 317 331 337 347 349 353 359 367 373 379 383 389 397 401 409 419 421 431 433 439 443 449 457 461 463 467 479 487 491 499 503 509 521 523 541 547 557 563 569 571 577 587 593 599 601 607 613 617 619 631 641 643 647 653 659 661 673 677 683 691 701 709 719 727 733 739 743 751 757 761 769 773 787 797 809 811 821 823 827 829 839 853 857 859 863 877 881 883 887 907 911 919 929 937 941 947 953 967 971 977 983 991 997\n"
          ],
          "name": "stdout"
        }
      ]
    },
    {
      "cell_type": "markdown",
      "metadata": {
        "id": "Xi2KE3wydQNX",
        "colab_type": "text"
      },
      "source": [
        "**Question 1**"
      ]
    },
    {
      "cell_type": "code",
      "metadata": {
        "id": "Oo_nAISgglaR",
        "colab_type": "code",
        "colab": {
          "base_uri": "https://localhost:8080/",
          "height": 34
        },
        "outputId": "e941ef89-4350-4a28-f1a5-e7c6736dde53"
      },
      "source": [
        "num=10\n",
        " \n",
        "for i in range(2,num):\n",
        "    if num%i==0:\n",
        "          print(\"Not prime\") \n",
        "          break\n",
        "else:\n",
        "    print (\"prime\")"
      ],
      "execution_count": null,
      "outputs": [
        {
          "output_type": "stream",
          "text": [
            "Not prime\n"
          ],
          "name": "stdout"
        }
      ]
    },
    {
      "cell_type": "code",
      "metadata": {
        "id": "9dAHSOtdkYY6",
        "colab_type": "code",
        "colab": {}
      },
      "source": [
        ""
      ],
      "execution_count": null,
      "outputs": []
    },
    {
      "cell_type": "code",
      "metadata": {
        "id": "lXKEMJwSgleb",
        "colab_type": "code",
        "colab": {}
      },
      "source": [
        "def is_prime(number) :\n",
        " \n",
        "   \"\"\"return True if *number* is prime.\"\"\" \n",
        " \n",
        "   for  element in range(number):\n",
        "     if number % element==0:\n",
        "      return False\n",
        " \n",
        "   return True"
      ],
      "execution_count": null,
      "outputs": []
    },
    {
      "cell_type": "code",
      "metadata": {
        "id": "g4pu93JNlFMg",
        "colab_type": "code",
        "colab": {}
      },
      "source": [
        "def print_next_prime(number):\n",
        "    \"\"\" print the closest primenumber\"\"\"\n",
        "    index = number\n",
        "    while True:\n",
        "       index +=1\n",
        " \n",
        "       if is_prime(index) :\n",
        "          print(index)"
      ],
      "execution_count": null,
      "outputs": []
    },
    {
      "cell_type": "code",
      "metadata": {
        "id": "YehyLFysp1o5",
        "colab_type": "code",
        "colab": {}
      },
      "source": [
        ""
      ],
      "execution_count": null,
      "outputs": []
    },
    {
      "cell_type": "code",
      "metadata": {
        "id": "YsTJquNLp7nV",
        "colab_type": "code",
        "colab": {}
      },
      "source": [
        "def is_prime(number):\n",
        "   \n",
        "   if number<=1:\n",
        "        return False \n",
        "   for element in range(2, number): \n",
        "       if number % element==0:\n",
        "            return False\n",
        "   return True"
      ],
      "execution_count": null,
      "outputs": []
    },
    {
      "cell_type": "code",
      "metadata": {
        "id": "Go4jMCxLZ9KC",
        "colab_type": "code",
        "colab": {}
      },
      "source": [
        "import unittest\n",
        " \n",
        "from primes import is_prime\n",
        " \n",
        "class PrimesTestCase(unittest.Testcase)\n",
        "   *** Tests for Primes.py\"\"\"\n",
        "   def test_is_five_prime(self):\n",
        "      \"\"\" Is five successfully. determine\"\"\" \n",
        "      self.assertTrue(is_prime(5))\n",
        " \n",
        "      if __name__ =='__main__' :\n",
        " \n",
        "        unittest.main()"
      ],
      "execution_count": null,
      "outputs": []
    }
  ]
}