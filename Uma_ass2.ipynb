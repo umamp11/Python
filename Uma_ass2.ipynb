{
  "nbformat": 4,
  "nbformat_minor": 0,
  "metadata": {
    "colab": {
      "name": "prema ass2",
      "provenance": [],
      "collapsed_sections": []
    },
    "kernelspec": {
      "name": "python3",
      "display_name": "Python 3"
    }
  },
  "cells": [
    {
      "cell_type": "markdown",
      "metadata": {
        "id": "3jNxhGl82cBv",
        "colab_type": "text"
      },
      "source": [
        "# **Plane Landing**"
      ]
    },
    {
      "cell_type": "code",
      "metadata": {
        "id": "qgLWmssJaqao",
        "colab_type": "code",
        "colab": {
          "base_uri": "https://localhost:8080/",
          "height": 54
        },
        "outputId": "ab45554e-936a-4cea-fca9-a9ee64fe8e6e"
      },
      "source": [
        "num = input(\"Enter the altitude :\")\n",
        "num = int(num)\n",
        "\n",
        "if num<=1000:\n",
        "   print(\"Safe to land\") \n",
        "elif num<=4500:\n",
        "    print(\"Bring down to 1000\")\n",
        "elif num>5000:\n",
        "    print(\"turn around\")\n",
        "else:\n",
        "    print(\"Turn around\")"
      ],
      "execution_count": null,
      "outputs": [
        {
          "output_type": "stream",
          "text": [
            "Enter the altitude :1000\n",
            "Safe to land\n"
          ],
          "name": "stdout"
        }
      ]
    },
    {
      "cell_type": "code",
      "metadata": {
        "colab_type": "code",
        "id": "UoASOaq2lQof",
        "colab": {
          "base_uri": "https://localhost:8080/",
          "height": 54
        },
        "outputId": "f363d122-57fc-40e8-8314-603cd23361ad"
      },
      "source": [
        "num = input(\"Enter the altitude :\")\n",
        "num = int(num)\n",
        "\n",
        "if num<=1000:\n",
        "   print(\"Safe to land\") \n",
        "elif num<=4500:\n",
        "    print(\"Bring down to 1000\")\n",
        "elif num>5000:\n",
        "    print(\"turn around\")\n",
        "else:\n",
        "    print(\"Turn around\")"
      ],
      "execution_count": null,
      "outputs": [
        {
          "output_type": "stream",
          "text": [
            "Enter the altitude :4500\n",
            "Bring down to 1000\n"
          ],
          "name": "stdout"
        }
      ]
    },
    {
      "cell_type": "code",
      "metadata": {
        "colab_type": "code",
        "id": "7FOVVwVelQoo",
        "colab": {}
      },
      "source": [
        ""
      ],
      "execution_count": null,
      "outputs": []
    },
    {
      "cell_type": "code",
      "metadata": {
        "colab_type": "code",
        "id": "6BhF5uDTlOti",
        "colab": {
          "base_uri": "https://localhost:8080/",
          "height": 54
        },
        "outputId": "6f1d7f5a-19c0-454d-a2f2-a8fd37ccf112"
      },
      "source": [
        "num = input(\"Enter the altitude :\")\n",
        "num = int(num)\n",
        "\n",
        "if num<=1000:\n",
        "   print(\"Safe to land\") \n",
        "elif num<=4500:\n",
        "    print(\"Bring down to 1000\")\n",
        "elif num>5000:\n",
        "    print(\"turn around\")\n",
        "else:\n",
        "    print(\"Turn around\")"
      ],
      "execution_count": null,
      "outputs": [
        {
          "output_type": "stream",
          "text": [
            "Enter the altitude :6500\n",
            "turn around\n"
          ],
          "name": "stdout"
        }
      ]
    },
    {
      "cell_type": "markdown",
      "metadata": {
        "id": "2hujBCZN3bvC",
        "colab_type": "text"
      },
      "source": [
        "**Prime Number Generation**"
      ]
    },
    {
      "cell_type": "code",
      "metadata": {
        "colab_type": "code",
        "id": "Q7lf5SahlOtr",
        "colab": {
          "base_uri": "https://localhost:8080/",
          "height": 854
        },
        "outputId": "84dcafca-6c1a-456c-c0b1-85c8dfc1dfaf"
      },
      "source": [
        "start=2\n",
        "end=200\n",
        "\n",
        "for i in range(start,end):\n",
        "  for j in range(2,i):\n",
        "    if(i%j==0):\n",
        "      break\n",
        "  else:\n",
        "        print(i)"
      ],
      "execution_count": null,
      "outputs": [
        {
          "output_type": "stream",
          "text": [
            "2\n",
            "3\n",
            "5\n",
            "7\n",
            "11\n",
            "13\n",
            "17\n",
            "19\n",
            "23\n",
            "29\n",
            "31\n",
            "37\n",
            "41\n",
            "43\n",
            "47\n",
            "53\n",
            "59\n",
            "61\n",
            "67\n",
            "71\n",
            "73\n",
            "79\n",
            "83\n",
            "89\n",
            "97\n",
            "101\n",
            "103\n",
            "107\n",
            "109\n",
            "113\n",
            "127\n",
            "131\n",
            "137\n",
            "139\n",
            "149\n",
            "151\n",
            "157\n",
            "163\n",
            "167\n",
            "173\n",
            "179\n",
            "181\n",
            "191\n",
            "193\n",
            "197\n",
            "199\n"
          ],
          "name": "stdout"
        }
      ]
    },
    {
      "cell_type": "code",
      "metadata": {
        "id": "G5mCHZHQlKfD",
        "colab_type": "code",
        "colab": {}
      },
      "source": [
        ""
      ],
      "execution_count": null,
      "outputs": []
    }
  ]
}