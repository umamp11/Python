{
  "nbformat": 4,
  "nbformat_minor": 0,
  "metadata": {
    "colab": {
      "name": "Prema Day 8 Ass.ipynb",
      "provenance": [],
      "collapsed_sections": []
    },
    "kernelspec": {
      "name": "python3",
      "display_name": "Python 3"
    }
  },
  "cells": [
    {
      "cell_type": "markdown",
      "metadata": {
        "id": "p1yLlRTXAKWz",
        "colab_type": "text"
      },
      "source": [
        "**Question 1 Fibinacci Series using Decorator Function**"
      ]
    },
    {
      "cell_type": "code",
      "metadata": {
        "id": "j2f6-wsG9gpB",
        "colab_type": "code",
        "colab": {}
      },
      "source": [
        "def fib(self, N):\n",
        "    \"\"\"\n",
        "    :type N: int\n",
        "    :rtype: int\n",
        "    \"\"\"\n",
        "    cache = {}\n",
        "    def recur_fib(N):\n",
        "        if N in cache:\n",
        "            return cache[N]\n",
        "\n",
        "        if N < 2:\n",
        "            result = N\n",
        "        else:\n",
        "            result = recur_fib(N-1) + recur_fib(N-2)\n",
        "\n",
        "        # put result in cache for later reference.\n",
        "        cache[N] = result\n",
        "        return result\n",
        "\n",
        "    return recur_fib(N)"
      ],
      "execution_count": 9,
      "outputs": []
    },
    {
      "cell_type": "code",
      "metadata": {
        "id": "2o4MZWF0_QWD",
        "colab_type": "code",
        "colab": {
          "base_uri": "https://localhost:8080/",
          "height": 34
        },
        "outputId": "cb80d3c9-a8be-4985-b16b-5814947f80eb"
      },
      "source": [
        "fib(5,20)"
      ],
      "execution_count": 11,
      "outputs": [
        {
          "output_type": "execute_result",
          "data": {
            "text/plain": [
              "6765"
            ]
          },
          "metadata": {
            "tags": []
          },
          "execution_count": 11
        }
      ]
    },
    {
      "cell_type": "markdown",
      "metadata": {
        "id": "5wt_LaBcCETk",
        "colab_type": "text"
      },
      "source": [
        "**Question 2 File with Exeption Handling**"
      ]
    },
    {
      "cell_type": "code",
      "metadata": {
        "id": "0-UbkgqwCNnA",
        "colab_type": "code",
        "colab": {
          "base_uri": "https://localhost:8080/",
          "height": 34
        },
        "outputId": "69ca596a-92dd-4246-b676-9639e2ffe3e1"
      },
      "source": [
        "try:\n",
        "   fh = open(\"testfile\", \"w\")\n",
        "   fh.write(\"This is my test file for exception handling!!\")\n",
        "except IOError:\n",
        "   print (\"Error: can\\'t find file or read data\")\n",
        "else:\n",
        "   print (\"Written content in the file successfully\")\n",
        "   fh.close()"
      ],
      "execution_count": 13,
      "outputs": [
        {
          "output_type": "stream",
          "text": [
            "Written content in the file successfully\n"
          ],
          "name": "stdout"
        }
      ]
    },
    {
      "cell_type": "code",
      "metadata": {
        "id": "Q1UpFuj9ERvl",
        "colab_type": "code",
        "colab": {
          "base_uri": "https://localhost:8080/",
          "height": 34
        },
        "outputId": "cb887421-1ad7-4e69-9830-154fd9e2d88c"
      },
      "source": [
        "try:\n",
        "   fh = open(\"testfile\", \"r\")\n",
        "   fh.write(\"This is my test file for exception handling!!\")\n",
        "except IOError:\n",
        "   print (\"Error: can\\'t find file or read data\")\n",
        "else:\n",
        "   print (\"Written content in the file successfully\")"
      ],
      "execution_count": 14,
      "outputs": [
        {
          "output_type": "stream",
          "text": [
            "Error: can't find file or read data\n"
          ],
          "name": "stdout"
        }
      ]
    }
  ]
}