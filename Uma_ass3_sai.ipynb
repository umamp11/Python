{
  "nbformat": 4,
  "nbformat_minor": 0,
  "metadata": {
    "colab": {
      "name": "prema ass3 sai.ipynb",
      "provenance": [],
      "collapsed_sections": []
    },
    "kernelspec": {
      "name": "python3",
      "display_name": "Python 3"
    }
  },
  "cells": [
    {
      "cell_type": "code",
      "metadata": {
        "id": "wedPksjJn9Ub",
        "colab_type": "code",
        "colab": {
          "base_uri": "https://localhost:8080/",
          "height": 252
        },
        "outputId": "0ec8bac1-3001-4b41-f597-966deb2e7e4b"
      },
      "source": [
        "# ARMSTRONG NUMBEr\n",
        "for num in range(1042000,702648265+1):\n",
        "  order=len(str(num))\n",
        "  temp=num\n",
        "  sum=0\n",
        "  while temp>0:\n",
        "    digit=temp%10\n",
        "    sum=sum+digit**order\n",
        "    temp=temp//10\n",
        "    \n",
        "    if num==sum:\n",
        "      print(\" The first Armstrong number is :\", num)\n",
        "      break"
      ],
      "execution_count": null,
      "outputs": [
        {
          "output_type": "stream",
          "text": [
            " The first Armstrong number is : 1741725\n",
            " The first Armstrong number is : 2097280\n",
            " The first Armstrong number is : 2097281\n",
            " The first Armstrong number is : 3278756\n",
            " The first Armstrong number is : 4210818\n",
            " The first Armstrong number is : 4782969\n",
            " The first Armstrong number is : 4861095\n",
            " The first Armstrong number is : 9800817\n",
            " The first Armstrong number is : 9926315\n",
            " The first Armstrong number is : 16790338\n",
            " The first Armstrong number is : 21816066\n",
            " The first Armstrong number is : 24678050\n",
            " The first Armstrong number is : 24678051\n",
            " The first Armstrong number is : 26682755\n"
          ],
          "name": "stdout"
        }
      ]
    },
    {
      "cell_type": "code",
      "metadata": {
        "id": "goDeZ_W0qqsd",
        "colab_type": "code",
        "colab": {}
      },
      "source": [
        ""
      ],
      "execution_count": null,
      "outputs": []
    }
  ]
}